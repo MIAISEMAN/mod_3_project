{
 "cells": [
  {
   "cell_type": "markdown",
   "metadata": {},
   "source": [
    "# Homicide Rates per County"
   ]
  },
  {
   "cell_type": "code",
   "execution_count": 2,
   "metadata": {},
   "outputs": [],
   "source": [
    "import pandas as pd "
   ]
  },
  {
   "cell_type": "code",
   "execution_count": 3,
   "metadata": {},
   "outputs": [
    {
     "data": {
      "text/html": [
       "<div>\n",
       "<style scoped>\n",
       "    .dataframe tbody tr th:only-of-type {\n",
       "        vertical-align: middle;\n",
       "    }\n",
       "\n",
       "    .dataframe tbody tr th {\n",
       "        vertical-align: top;\n",
       "    }\n",
       "\n",
       "    .dataframe thead th {\n",
       "        text-align: right;\n",
       "    }\n",
       "</style>\n",
       "<table border=\"1\" class=\"dataframe\">\n",
       "  <thead>\n",
       "    <tr style=\"text-align: right;\">\n",
       "      <th></th>\n",
       "      <th>0</th>\n",
       "    </tr>\n",
       "  </thead>\n",
       "  <tbody>\n",
       "    <tr>\n",
       "      <th>Notes</th>\n",
       "      <td>NaN</td>\n",
       "    </tr>\n",
       "    <tr>\n",
       "      <th>County</th>\n",
       "      <td>Autauga County, AL</td>\n",
       "    </tr>\n",
       "    <tr>\n",
       "      <th>County Code</th>\n",
       "      <td>1001</td>\n",
       "    </tr>\n",
       "    <tr>\n",
       "      <th>Deaths</th>\n",
       "      <td>Suppressed</td>\n",
       "    </tr>\n",
       "    <tr>\n",
       "      <th>Population</th>\n",
       "      <td>55504</td>\n",
       "    </tr>\n",
       "    <tr>\n",
       "      <th>Crude Rate</th>\n",
       "      <td>Suppressed</td>\n",
       "    </tr>\n",
       "  </tbody>\n",
       "</table>\n",
       "</div>"
      ],
      "text/plain": [
       "                              0\n",
       "Notes                       NaN\n",
       "County       Autauga County, AL\n",
       "County Code                1001\n",
       "Deaths               Suppressed\n",
       "Population                55504\n",
       "Crude Rate           Suppressed"
      ]
     },
     "execution_count": 3,
     "metadata": {},
     "output_type": "execute_result"
    }
   ],
   "source": [
    "hom_by_cty = pd.read_csv('cty_homicides_2017.txt', delimiter='\\t')\n",
    "hom_by_cty.head(1).T"
   ]
  },
  {
   "cell_type": "code",
   "execution_count": 4,
   "metadata": {},
   "outputs": [],
   "source": [
    "hom_by_cty.drop(['Notes'], inplace=True, axis=1)"
   ]
  },
  {
   "cell_type": "code",
   "execution_count": 5,
   "metadata": {},
   "outputs": [
    {
     "data": {
      "text/html": [
       "<div>\n",
       "<style scoped>\n",
       "    .dataframe tbody tr th:only-of-type {\n",
       "        vertical-align: middle;\n",
       "    }\n",
       "\n",
       "    .dataframe tbody tr th {\n",
       "        vertical-align: top;\n",
       "    }\n",
       "\n",
       "    .dataframe thead th {\n",
       "        text-align: right;\n",
       "    }\n",
       "</style>\n",
       "<table border=\"1\" class=\"dataframe\">\n",
       "  <thead>\n",
       "    <tr style=\"text-align: right;\">\n",
       "      <th></th>\n",
       "      <th>County</th>\n",
       "      <th>County Code</th>\n",
       "      <th>Deaths</th>\n",
       "      <th>Population</th>\n",
       "      <th>Crude Rate</th>\n",
       "    </tr>\n",
       "  </thead>\n",
       "  <tbody>\n",
       "    <tr>\n",
       "      <th>0</th>\n",
       "      <td>Autauga County, AL</td>\n",
       "      <td>1001.0</td>\n",
       "      <td>Suppressed</td>\n",
       "      <td>55504</td>\n",
       "      <td>Suppressed</td>\n",
       "    </tr>\n",
       "    <tr>\n",
       "      <th>1</th>\n",
       "      <td>Baldwin County, AL</td>\n",
       "      <td>1003.0</td>\n",
       "      <td>Suppressed</td>\n",
       "      <td>212628</td>\n",
       "      <td>Suppressed</td>\n",
       "    </tr>\n",
       "    <tr>\n",
       "      <th>2</th>\n",
       "      <td>Barbour County, AL</td>\n",
       "      <td>1005.0</td>\n",
       "      <td>Suppressed</td>\n",
       "      <td>25270</td>\n",
       "      <td>Suppressed</td>\n",
       "    </tr>\n",
       "    <tr>\n",
       "      <th>3</th>\n",
       "      <td>Bibb County, AL</td>\n",
       "      <td>1007.0</td>\n",
       "      <td>Suppressed</td>\n",
       "      <td>22668</td>\n",
       "      <td>Suppressed</td>\n",
       "    </tr>\n",
       "    <tr>\n",
       "      <th>4</th>\n",
       "      <td>Blount County, AL</td>\n",
       "      <td>1009.0</td>\n",
       "      <td>Suppressed</td>\n",
       "      <td>58013</td>\n",
       "      <td>Suppressed</td>\n",
       "    </tr>\n",
       "  </tbody>\n",
       "</table>\n",
       "</div>"
      ],
      "text/plain": [
       "               County  County Code      Deaths Population  Crude Rate\n",
       "0  Autauga County, AL       1001.0  Suppressed      55504  Suppressed\n",
       "1  Baldwin County, AL       1003.0  Suppressed     212628  Suppressed\n",
       "2  Barbour County, AL       1005.0  Suppressed      25270  Suppressed\n",
       "3     Bibb County, AL       1007.0  Suppressed      22668  Suppressed\n",
       "4   Blount County, AL       1009.0  Suppressed      58013  Suppressed"
      ]
     },
     "execution_count": 5,
     "metadata": {},
     "output_type": "execute_result"
    }
   ],
   "source": [
    "#this is homicide rate per county where there is enough data \n",
    "hom_by_cty.head()"
   ]
  },
  {
   "cell_type": "markdown",
   "metadata": {},
   "source": [
    "# County Features "
   ]
  },
  {
   "cell_type": "markdown",
   "metadata": {},
   "source": [
    "We tried using the ACS 1 year data through Cenpy and the API and consistently got ~820 to 840 counties. \n",
    "\n",
    "I tried it from the API directly and from cenpy, with different years for each, and it always returned counties within that range. And, not all states had counties in there, so it wasn't a random sample (remember, Arizona had zero...) \n",
    "\n",
    "#### However, using the 5 year data does get us more county information! "
   ]
  },
  {
   "cell_type": "code",
   "execution_count": 6,
   "metadata": {},
   "outputs": [
    {
     "name": "stderr",
     "output_type": "stream",
     "text": [
      "/Users/tjjj/anaconda3/lib/python3.7/site-packages/libpysal/weights/util.py:19: UserWarning: geopandas not available. Some functionality will be disabled.\n",
      "  warn('geopandas not available. Some functionality will be disabled.')\n"
     ]
    },
    {
     "data": {
      "text/html": [
       "<div>\n",
       "<style scoped>\n",
       "    .dataframe tbody tr th:only-of-type {\n",
       "        vertical-align: middle;\n",
       "    }\n",
       "\n",
       "    .dataframe tbody tr th {\n",
       "        vertical-align: top;\n",
       "    }\n",
       "\n",
       "    .dataframe thead th {\n",
       "        text-align: right;\n",
       "    }\n",
       "</style>\n",
       "<table border=\"1\" class=\"dataframe\">\n",
       "  <thead>\n",
       "    <tr style=\"text-align: right;\">\n",
       "      <th></th>\n",
       "      <th>variable_cell_limit</th>\n",
       "      <th>title</th>\n",
       "      <th>temporal</th>\n",
       "      <th>spatial</th>\n",
       "      <th>publisher</th>\n",
       "      <th>programCode</th>\n",
       "      <th>modified</th>\n",
       "      <th>keyword</th>\n",
       "      <th>distribution</th>\n",
       "      <th>description</th>\n",
       "      <th>...</th>\n",
       "      <th>c_isCube</th>\n",
       "      <th>c_isAvailable</th>\n",
       "      <th>c_isAggregate</th>\n",
       "      <th>c_groupsLink</th>\n",
       "      <th>c_geographyLink</th>\n",
       "      <th>c_examplesLink</th>\n",
       "      <th>c_dataset</th>\n",
       "      <th>c.is_cell_limit_discovery</th>\n",
       "      <th>bureauCode</th>\n",
       "      <th>accessLevel</th>\n",
       "    </tr>\n",
       "  </thead>\n",
       "  <tbody>\n",
       "    <tr>\n",
       "      <th>ACSDT1Y2017</th>\n",
       "      <td>NaN</td>\n",
       "      <td>ACS 1-Year Detailed Tables</td>\n",
       "      <td>unidentified</td>\n",
       "      <td>NaN</td>\n",
       "      <td>U.S. Census Bureau</td>\n",
       "      <td>006:004</td>\n",
       "      <td>2018-09-13 00:00:00.0</td>\n",
       "      <td>()</td>\n",
       "      <td>{'@type': 'dcat:Distribution', 'accessURL': 'h...</td>\n",
       "      <td>The American Community Survey (ACS) is an ongo...</td>\n",
       "      <td>...</td>\n",
       "      <td>True</td>\n",
       "      <td>True</td>\n",
       "      <td>True</td>\n",
       "      <td>https://api.census.gov/data/2017/acs/acs1/grou...</td>\n",
       "      <td>https://api.census.gov/data/2017/acs/acs1/geog...</td>\n",
       "      <td>https://api.census.gov/data/2017/acs/acs1/exam...</td>\n",
       "      <td>(acs, acs1)</td>\n",
       "      <td>NaN</td>\n",
       "      <td>NaN</td>\n",
       "      <td>NaN</td>\n",
       "    </tr>\n",
       "    <tr>\n",
       "      <th>ACSCP1Y2017</th>\n",
       "      <td>NaN</td>\n",
       "      <td>ACS 1-Year Comparison Profiles</td>\n",
       "      <td>unidentified</td>\n",
       "      <td>NaN</td>\n",
       "      <td>U.S. Census Bureau</td>\n",
       "      <td>006:004</td>\n",
       "      <td>2018-09-13 00:00:00.0</td>\n",
       "      <td>()</td>\n",
       "      <td>{'@type': 'dcat:Distribution', 'accessURL': 'h...</td>\n",
       "      <td>The American Community Survey (ACS) is an ongo...</td>\n",
       "      <td>...</td>\n",
       "      <td>True</td>\n",
       "      <td>True</td>\n",
       "      <td>True</td>\n",
       "      <td>https://api.census.gov/data/2017/acs/acs1/cpro...</td>\n",
       "      <td>https://api.census.gov/data/2017/acs/acs1/cpro...</td>\n",
       "      <td>https://api.census.gov/data/2017/acs/acs1/cpro...</td>\n",
       "      <td>(acs, acs1, cprofile)</td>\n",
       "      <td>NaN</td>\n",
       "      <td>NaN</td>\n",
       "      <td>NaN</td>\n",
       "    </tr>\n",
       "    <tr>\n",
       "      <th>ACSDP1Y2017</th>\n",
       "      <td>NaN</td>\n",
       "      <td>ACS 1-Year Data Profiles</td>\n",
       "      <td>unidentified</td>\n",
       "      <td>NaN</td>\n",
       "      <td>U.S. Census Bureau</td>\n",
       "      <td>006:004</td>\n",
       "      <td>2018-09-13 00:00:00.0</td>\n",
       "      <td>()</td>\n",
       "      <td>{'@type': 'dcat:Distribution', 'accessURL': 'h...</td>\n",
       "      <td>The American Community Survey (ACS) is an ongo...</td>\n",
       "      <td>...</td>\n",
       "      <td>True</td>\n",
       "      <td>True</td>\n",
       "      <td>True</td>\n",
       "      <td>https://api.census.gov/data/2017/acs/acs1/prof...</td>\n",
       "      <td>https://api.census.gov/data/2017/acs/acs1/prof...</td>\n",
       "      <td>https://api.census.gov/data/2017/acs/acs1/prof...</td>\n",
       "      <td>(acs, acs1, profile)</td>\n",
       "      <td>NaN</td>\n",
       "      <td>NaN</td>\n",
       "      <td>NaN</td>\n",
       "    </tr>\n",
       "    <tr>\n",
       "      <th>ACSSPP1Y2017</th>\n",
       "      <td>NaN</td>\n",
       "      <td>ACS 1-Year Selected Population Profiles</td>\n",
       "      <td>unidentified</td>\n",
       "      <td>NaN</td>\n",
       "      <td>U.S. Census Bureau</td>\n",
       "      <td>006:004</td>\n",
       "      <td>2018-09-17 00:00:00.0</td>\n",
       "      <td>()</td>\n",
       "      <td>{'@type': 'dcat:Distribution', 'accessURL': 'h...</td>\n",
       "      <td>Selected Population Profiles provide broad soc...</td>\n",
       "      <td>...</td>\n",
       "      <td>True</td>\n",
       "      <td>True</td>\n",
       "      <td>True</td>\n",
       "      <td>https://api.census.gov/data/2017/acs/acs1/spp/...</td>\n",
       "      <td>https://api.census.gov/data/2017/acs/acs1/spp/...</td>\n",
       "      <td>https://api.census.gov/data/2017/acs/acs1/spp/...</td>\n",
       "      <td>(acs, acs1, spp)</td>\n",
       "      <td>NaN</td>\n",
       "      <td>NaN</td>\n",
       "      <td>NaN</td>\n",
       "    </tr>\n",
       "    <tr>\n",
       "      <th>ACSST1Y2017</th>\n",
       "      <td>NaN</td>\n",
       "      <td>ACS 1-Year Subject Tables</td>\n",
       "      <td>unidentified</td>\n",
       "      <td>NaN</td>\n",
       "      <td>U.S. Census Bureau</td>\n",
       "      <td>006:004</td>\n",
       "      <td>2018-09-13 00:00:00.0</td>\n",
       "      <td>()</td>\n",
       "      <td>{'@type': 'dcat:Distribution', 'accessURL': 'h...</td>\n",
       "      <td>The American Community Survey (ACS) is an ongo...</td>\n",
       "      <td>...</td>\n",
       "      <td>True</td>\n",
       "      <td>True</td>\n",
       "      <td>True</td>\n",
       "      <td>https://api.census.gov/data/2017/acs/acs1/subj...</td>\n",
       "      <td>https://api.census.gov/data/2017/acs/acs1/subj...</td>\n",
       "      <td>https://api.census.gov/data/2017/acs/acs1/subj...</td>\n",
       "      <td>(acs, acs1, subject)</td>\n",
       "      <td>NaN</td>\n",
       "      <td>NaN</td>\n",
       "      <td>NaN</td>\n",
       "    </tr>\n",
       "    <tr>\n",
       "      <th>ACSDT5Y2017</th>\n",
       "      <td>NaN</td>\n",
       "      <td>ACS 5-Year Detailed Tables</td>\n",
       "      <td>unidentified</td>\n",
       "      <td>NaN</td>\n",
       "      <td>U.S. Census Bureau</td>\n",
       "      <td>006:004</td>\n",
       "      <td>2018-08-21 07:11:43.0</td>\n",
       "      <td>()</td>\n",
       "      <td>{'@type': 'dcat:Distribution', 'accessURL': 'h...</td>\n",
       "      <td>The American Community Survey (ACS) is an ongo...</td>\n",
       "      <td>...</td>\n",
       "      <td>True</td>\n",
       "      <td>True</td>\n",
       "      <td>True</td>\n",
       "      <td>https://api.census.gov/data/2017/acs/acs5/grou...</td>\n",
       "      <td>https://api.census.gov/data/2017/acs/acs5/geog...</td>\n",
       "      <td>https://api.census.gov/data/2017/acs/acs5/exam...</td>\n",
       "      <td>(acs, acs5)</td>\n",
       "      <td>NaN</td>\n",
       "      <td>NaN</td>\n",
       "      <td>NaN</td>\n",
       "    </tr>\n",
       "    <tr>\n",
       "      <th>ACSCP5Y2017</th>\n",
       "      <td>NaN</td>\n",
       "      <td>ACS 5-Year Comparison Profiles</td>\n",
       "      <td>unidentified</td>\n",
       "      <td>NaN</td>\n",
       "      <td>U.S. Census Bureau</td>\n",
       "      <td>006:004</td>\n",
       "      <td>2018-10-19 00:00:00.0</td>\n",
       "      <td>()</td>\n",
       "      <td>{'@type': 'dcat:Distribution', 'accessURL': 'h...</td>\n",
       "      <td>The American Community Survey (ACS) is an ongo...</td>\n",
       "      <td>...</td>\n",
       "      <td>True</td>\n",
       "      <td>True</td>\n",
       "      <td>True</td>\n",
       "      <td>https://api.census.gov/data/2017/acs/acs5/cpro...</td>\n",
       "      <td>https://api.census.gov/data/2017/acs/acs5/cpro...</td>\n",
       "      <td>https://api.census.gov/data/2017/acs/acs5/cpro...</td>\n",
       "      <td>(acs, acs5, cprofile)</td>\n",
       "      <td>NaN</td>\n",
       "      <td>NaN</td>\n",
       "      <td>NaN</td>\n",
       "    </tr>\n",
       "    <tr>\n",
       "      <th>ACSDP5Y2017</th>\n",
       "      <td>NaN</td>\n",
       "      <td>ACS 5-Year Data Profiles</td>\n",
       "      <td>unidentified</td>\n",
       "      <td>NaN</td>\n",
       "      <td>U.S. Census Bureau</td>\n",
       "      <td>006:004</td>\n",
       "      <td>2018-10-19 00:00:00.0</td>\n",
       "      <td>()</td>\n",
       "      <td>{'@type': 'dcat:Distribution', 'accessURL': 'h...</td>\n",
       "      <td>The American Community Survey (ACS) is an ongo...</td>\n",
       "      <td>...</td>\n",
       "      <td>True</td>\n",
       "      <td>True</td>\n",
       "      <td>True</td>\n",
       "      <td>https://api.census.gov/data/2017/acs/acs5/prof...</td>\n",
       "      <td>https://api.census.gov/data/2017/acs/acs5/prof...</td>\n",
       "      <td>https://api.census.gov/data/2017/acs/acs5/prof...</td>\n",
       "      <td>(acs, acs5, profile)</td>\n",
       "      <td>NaN</td>\n",
       "      <td>NaN</td>\n",
       "      <td>NaN</td>\n",
       "    </tr>\n",
       "    <tr>\n",
       "      <th>ACSST5Y2017</th>\n",
       "      <td>NaN</td>\n",
       "      <td>ACS 5-Year Subject Tables</td>\n",
       "      <td>unidentified</td>\n",
       "      <td>NaN</td>\n",
       "      <td>U.S. Census Bureau</td>\n",
       "      <td>006:004</td>\n",
       "      <td>2018-10-19 00:00:00.0</td>\n",
       "      <td>()</td>\n",
       "      <td>{'@type': 'dcat:Distribution', 'accessURL': 'h...</td>\n",
       "      <td>The American Community Survey (ACS) is an ongo...</td>\n",
       "      <td>...</td>\n",
       "      <td>True</td>\n",
       "      <td>True</td>\n",
       "      <td>True</td>\n",
       "      <td>https://api.census.gov/data/2017/acs/acs5/subj...</td>\n",
       "      <td>https://api.census.gov/data/2017/acs/acs5/subj...</td>\n",
       "      <td>https://api.census.gov/data/2017/acs/acs5/subj...</td>\n",
       "      <td>(acs, acs5, subject)</td>\n",
       "      <td>NaN</td>\n",
       "      <td>NaN</td>\n",
       "      <td>NaN</td>\n",
       "    </tr>\n",
       "    <tr>\n",
       "      <th>ACSSE2017</th>\n",
       "      <td>NaN</td>\n",
       "      <td>ACS 1-Year Supplemental Estimates</td>\n",
       "      <td>unidentified</td>\n",
       "      <td>NaN</td>\n",
       "      <td>U.S. Census Bureau</td>\n",
       "      <td>006:004</td>\n",
       "      <td>2018-10-18 00:00:00.0</td>\n",
       "      <td>()</td>\n",
       "      <td>{'@type': 'dcat:Distribution', 'accessURL': 'h...</td>\n",
       "      <td>The American Community Survey (ACS) is a natio...</td>\n",
       "      <td>...</td>\n",
       "      <td>True</td>\n",
       "      <td>True</td>\n",
       "      <td>True</td>\n",
       "      <td>https://api.census.gov/data/2017/acs/acsse/gro...</td>\n",
       "      <td>https://api.census.gov/data/2017/acs/acsse/geo...</td>\n",
       "      <td>https://api.census.gov/data/2017/acs/acsse/exa...</td>\n",
       "      <td>(acs, acsse)</td>\n",
       "      <td>NaN</td>\n",
       "      <td>NaN</td>\n",
       "      <td>NaN</td>\n",
       "    </tr>\n",
       "  </tbody>\n",
       "</table>\n",
       "<p>10 rows × 26 columns</p>\n",
       "</div>"
      ],
      "text/plain": [
       "             variable_cell_limit                                    title  \\\n",
       "ACSDT1Y2017                  NaN               ACS 1-Year Detailed Tables   \n",
       "ACSCP1Y2017                  NaN           ACS 1-Year Comparison Profiles   \n",
       "ACSDP1Y2017                  NaN                 ACS 1-Year Data Profiles   \n",
       "ACSSPP1Y2017                 NaN  ACS 1-Year Selected Population Profiles   \n",
       "ACSST1Y2017                  NaN                ACS 1-Year Subject Tables   \n",
       "ACSDT5Y2017                  NaN               ACS 5-Year Detailed Tables   \n",
       "ACSCP5Y2017                  NaN           ACS 5-Year Comparison Profiles   \n",
       "ACSDP5Y2017                  NaN                 ACS 5-Year Data Profiles   \n",
       "ACSST5Y2017                  NaN                ACS 5-Year Subject Tables   \n",
       "ACSSE2017                    NaN        ACS 1-Year Supplemental Estimates   \n",
       "\n",
       "                  temporal spatial           publisher programCode  \\\n",
       "ACSDT1Y2017   unidentified     NaN  U.S. Census Bureau     006:004   \n",
       "ACSCP1Y2017   unidentified     NaN  U.S. Census Bureau     006:004   \n",
       "ACSDP1Y2017   unidentified     NaN  U.S. Census Bureau     006:004   \n",
       "ACSSPP1Y2017  unidentified     NaN  U.S. Census Bureau     006:004   \n",
       "ACSST1Y2017   unidentified     NaN  U.S. Census Bureau     006:004   \n",
       "ACSDT5Y2017   unidentified     NaN  U.S. Census Bureau     006:004   \n",
       "ACSCP5Y2017   unidentified     NaN  U.S. Census Bureau     006:004   \n",
       "ACSDP5Y2017   unidentified     NaN  U.S. Census Bureau     006:004   \n",
       "ACSST5Y2017   unidentified     NaN  U.S. Census Bureau     006:004   \n",
       "ACSSE2017     unidentified     NaN  U.S. Census Bureau     006:004   \n",
       "\n",
       "                           modified keyword  \\\n",
       "ACSDT1Y2017   2018-09-13 00:00:00.0      ()   \n",
       "ACSCP1Y2017   2018-09-13 00:00:00.0      ()   \n",
       "ACSDP1Y2017   2018-09-13 00:00:00.0      ()   \n",
       "ACSSPP1Y2017  2018-09-17 00:00:00.0      ()   \n",
       "ACSST1Y2017   2018-09-13 00:00:00.0      ()   \n",
       "ACSDT5Y2017   2018-08-21 07:11:43.0      ()   \n",
       "ACSCP5Y2017   2018-10-19 00:00:00.0      ()   \n",
       "ACSDP5Y2017   2018-10-19 00:00:00.0      ()   \n",
       "ACSST5Y2017   2018-10-19 00:00:00.0      ()   \n",
       "ACSSE2017     2018-10-18 00:00:00.0      ()   \n",
       "\n",
       "                                                   distribution  \\\n",
       "ACSDT1Y2017   {'@type': 'dcat:Distribution', 'accessURL': 'h...   \n",
       "ACSCP1Y2017   {'@type': 'dcat:Distribution', 'accessURL': 'h...   \n",
       "ACSDP1Y2017   {'@type': 'dcat:Distribution', 'accessURL': 'h...   \n",
       "ACSSPP1Y2017  {'@type': 'dcat:Distribution', 'accessURL': 'h...   \n",
       "ACSST1Y2017   {'@type': 'dcat:Distribution', 'accessURL': 'h...   \n",
       "ACSDT5Y2017   {'@type': 'dcat:Distribution', 'accessURL': 'h...   \n",
       "ACSCP5Y2017   {'@type': 'dcat:Distribution', 'accessURL': 'h...   \n",
       "ACSDP5Y2017   {'@type': 'dcat:Distribution', 'accessURL': 'h...   \n",
       "ACSST5Y2017   {'@type': 'dcat:Distribution', 'accessURL': 'h...   \n",
       "ACSSE2017     {'@type': 'dcat:Distribution', 'accessURL': 'h...   \n",
       "\n",
       "                                                    description  ... c_isCube  \\\n",
       "ACSDT1Y2017   The American Community Survey (ACS) is an ongo...  ...     True   \n",
       "ACSCP1Y2017   The American Community Survey (ACS) is an ongo...  ...     True   \n",
       "ACSDP1Y2017   The American Community Survey (ACS) is an ongo...  ...     True   \n",
       "ACSSPP1Y2017  Selected Population Profiles provide broad soc...  ...     True   \n",
       "ACSST1Y2017   The American Community Survey (ACS) is an ongo...  ...     True   \n",
       "ACSDT5Y2017   The American Community Survey (ACS) is an ongo...  ...     True   \n",
       "ACSCP5Y2017   The American Community Survey (ACS) is an ongo...  ...     True   \n",
       "ACSDP5Y2017   The American Community Survey (ACS) is an ongo...  ...     True   \n",
       "ACSST5Y2017   The American Community Survey (ACS) is an ongo...  ...     True   \n",
       "ACSSE2017     The American Community Survey (ACS) is a natio...  ...     True   \n",
       "\n",
       "              c_isAvailable c_isAggregate  \\\n",
       "ACSDT1Y2017            True          True   \n",
       "ACSCP1Y2017            True          True   \n",
       "ACSDP1Y2017            True          True   \n",
       "ACSSPP1Y2017           True          True   \n",
       "ACSST1Y2017            True          True   \n",
       "ACSDT5Y2017            True          True   \n",
       "ACSCP5Y2017            True          True   \n",
       "ACSDP5Y2017            True          True   \n",
       "ACSST5Y2017            True          True   \n",
       "ACSSE2017              True          True   \n",
       "\n",
       "                                                   c_groupsLink  \\\n",
       "ACSDT1Y2017   https://api.census.gov/data/2017/acs/acs1/grou...   \n",
       "ACSCP1Y2017   https://api.census.gov/data/2017/acs/acs1/cpro...   \n",
       "ACSDP1Y2017   https://api.census.gov/data/2017/acs/acs1/prof...   \n",
       "ACSSPP1Y2017  https://api.census.gov/data/2017/acs/acs1/spp/...   \n",
       "ACSST1Y2017   https://api.census.gov/data/2017/acs/acs1/subj...   \n",
       "ACSDT5Y2017   https://api.census.gov/data/2017/acs/acs5/grou...   \n",
       "ACSCP5Y2017   https://api.census.gov/data/2017/acs/acs5/cpro...   \n",
       "ACSDP5Y2017   https://api.census.gov/data/2017/acs/acs5/prof...   \n",
       "ACSST5Y2017   https://api.census.gov/data/2017/acs/acs5/subj...   \n",
       "ACSSE2017     https://api.census.gov/data/2017/acs/acsse/gro...   \n",
       "\n",
       "                                                c_geographyLink  \\\n",
       "ACSDT1Y2017   https://api.census.gov/data/2017/acs/acs1/geog...   \n",
       "ACSCP1Y2017   https://api.census.gov/data/2017/acs/acs1/cpro...   \n",
       "ACSDP1Y2017   https://api.census.gov/data/2017/acs/acs1/prof...   \n",
       "ACSSPP1Y2017  https://api.census.gov/data/2017/acs/acs1/spp/...   \n",
       "ACSST1Y2017   https://api.census.gov/data/2017/acs/acs1/subj...   \n",
       "ACSDT5Y2017   https://api.census.gov/data/2017/acs/acs5/geog...   \n",
       "ACSCP5Y2017   https://api.census.gov/data/2017/acs/acs5/cpro...   \n",
       "ACSDP5Y2017   https://api.census.gov/data/2017/acs/acs5/prof...   \n",
       "ACSST5Y2017   https://api.census.gov/data/2017/acs/acs5/subj...   \n",
       "ACSSE2017     https://api.census.gov/data/2017/acs/acsse/geo...   \n",
       "\n",
       "                                                 c_examplesLink  \\\n",
       "ACSDT1Y2017   https://api.census.gov/data/2017/acs/acs1/exam...   \n",
       "ACSCP1Y2017   https://api.census.gov/data/2017/acs/acs1/cpro...   \n",
       "ACSDP1Y2017   https://api.census.gov/data/2017/acs/acs1/prof...   \n",
       "ACSSPP1Y2017  https://api.census.gov/data/2017/acs/acs1/spp/...   \n",
       "ACSST1Y2017   https://api.census.gov/data/2017/acs/acs1/subj...   \n",
       "ACSDT5Y2017   https://api.census.gov/data/2017/acs/acs5/exam...   \n",
       "ACSCP5Y2017   https://api.census.gov/data/2017/acs/acs5/cpro...   \n",
       "ACSDP5Y2017   https://api.census.gov/data/2017/acs/acs5/prof...   \n",
       "ACSST5Y2017   https://api.census.gov/data/2017/acs/acs5/subj...   \n",
       "ACSSE2017     https://api.census.gov/data/2017/acs/acsse/exa...   \n",
       "\n",
       "                          c_dataset  c.is_cell_limit_discovery bureauCode  \\\n",
       "ACSDT1Y2017             (acs, acs1)                        NaN        NaN   \n",
       "ACSCP1Y2017   (acs, acs1, cprofile)                        NaN        NaN   \n",
       "ACSDP1Y2017    (acs, acs1, profile)                        NaN        NaN   \n",
       "ACSSPP1Y2017       (acs, acs1, spp)                        NaN        NaN   \n",
       "ACSST1Y2017    (acs, acs1, subject)                        NaN        NaN   \n",
       "ACSDT5Y2017             (acs, acs5)                        NaN        NaN   \n",
       "ACSCP5Y2017   (acs, acs5, cprofile)                        NaN        NaN   \n",
       "ACSDP5Y2017    (acs, acs5, profile)                        NaN        NaN   \n",
       "ACSST5Y2017    (acs, acs5, subject)                        NaN        NaN   \n",
       "ACSSE2017              (acs, acsse)                        NaN        NaN   \n",
       "\n",
       "             accessLevel  \n",
       "ACSDT1Y2017          NaN  \n",
       "ACSCP1Y2017          NaN  \n",
       "ACSDP1Y2017          NaN  \n",
       "ACSSPP1Y2017         NaN  \n",
       "ACSST1Y2017          NaN  \n",
       "ACSDT5Y2017          NaN  \n",
       "ACSCP5Y2017          NaN  \n",
       "ACSDP5Y2017          NaN  \n",
       "ACSST5Y2017          NaN  \n",
       "ACSSE2017            NaN  \n",
       "\n",
       "[10 rows x 26 columns]"
      ]
     },
     "execution_count": 6,
     "metadata": {},
     "output_type": "execute_result"
    }
   ],
   "source": [
    "import cenpy as c\n",
    "#find table that we want to query \n",
    "available = c.explorer.available()\n",
    "acs_df = available[available['title'].str.contains('ACS') == True]\n",
    "acs_df = acs_df[acs_df['vintage'] == 2017]\n",
    "acs_df"
   ]
  },
  {
   "cell_type": "markdown",
   "metadata": {},
   "source": [
    "Based on this website and other research, we want to use ACSDP5Y2017."
   ]
  },
  {
   "cell_type": "code",
   "execution_count": 7,
   "metadata": {},
   "outputs": [
    {
     "data": {
      "text/plain": [
       "{'ACS 5-Year Data Profiles': 'The American Community Survey (ACS) is an ongoing survey that provides data every year -- giving communities the current information they need to plan investments and services. The ACS covers a broad range of topics about social, economic, demographic, and housing characteristics of the U.S. population. The data profiles include the following geographies: nation, all states (including DC and Puerto Rico), all metropolitan areas, all congressional districts, all counties, all places and all tracts. Data profiles contain broad social, economic, housing, and demographic information. The data are presented as both counts and percentages. There are over 2,400 variables in this dataset.'}"
      ]
     },
     "execution_count": 7,
     "metadata": {},
     "output_type": "execute_result"
    }
   ],
   "source": [
    "c.explorer.explain('ACSDP5Y2017')"
   ]
  },
  {
   "cell_type": "code",
   "execution_count": 8,
   "metadata": {},
   "outputs": [],
   "source": [
    "con = c.base.Connection('ACSDP5Y2017')\n",
    "g_unit = 'county:*'"
   ]
  },
  {
   "cell_type": "code",
   "execution_count": 9,
   "metadata": {},
   "outputs": [],
   "source": [
    "#create education features list from https://api.census.gov/data/2017/acs/acs5/profile/variables.html\n",
    "cols_edu = [] \n",
    "for n in range(58,67): \n",
    "    var_name = 'DP02_00'+str(n)+'PE'\n",
    "    cols_edu.append(var_name)\n",
    "\n",
    "#create internet features list\n",
    "cols_internet = []\n",
    "for n in range(150,152):\n",
    "    var_name = 'DP02_0'+str(n)+'PE'\n",
    "    cols_internet.append(var_name)\n",
    "\n",
    "#create row names for joining and EDA\n",
    "cols_req = ['NAME']\n"
   ]
  },
  {
   "cell_type": "code",
   "execution_count": 10,
   "metadata": {},
   "outputs": [
    {
     "data": {
      "text/plain": [
       "['NAME',\n",
       " 'DP02_0058PE',\n",
       " 'DP02_0059PE',\n",
       " 'DP02_0060PE',\n",
       " 'DP02_0061PE',\n",
       " 'DP02_0062PE',\n",
       " 'DP02_0063PE',\n",
       " 'DP02_0064PE',\n",
       " 'DP02_0065PE',\n",
       " 'DP02_0066PE',\n",
       " 'DP02_0150PE',\n",
       " 'DP02_0151PE']"
      ]
     },
     "execution_count": 10,
     "metadata": {},
     "output_type": "execute_result"
    }
   ],
   "source": [
    "cols = cols_req + cols_edu + cols_internet \n",
    "cols"
   ]
  },
  {
   "cell_type": "code",
   "execution_count": 11,
   "metadata": {
    "scrolled": false
   },
   "outputs": [
    {
     "data": {
      "text/html": [
       "<div>\n",
       "<style scoped>\n",
       "    .dataframe tbody tr th:only-of-type {\n",
       "        vertical-align: middle;\n",
       "    }\n",
       "\n",
       "    .dataframe tbody tr th {\n",
       "        vertical-align: top;\n",
       "    }\n",
       "\n",
       "    .dataframe thead th {\n",
       "        text-align: right;\n",
       "    }\n",
       "</style>\n",
       "<table border=\"1\" class=\"dataframe\">\n",
       "  <thead>\n",
       "    <tr style=\"text-align: right;\">\n",
       "      <th></th>\n",
       "      <th>NAME</th>\n",
       "      <th>DP02_0058PE</th>\n",
       "      <th>DP02_0059PE</th>\n",
       "      <th>DP02_0060PE</th>\n",
       "      <th>DP02_0061PE</th>\n",
       "      <th>DP02_0062PE</th>\n",
       "      <th>DP02_0063PE</th>\n",
       "      <th>DP02_0064PE</th>\n",
       "      <th>DP02_0065PE</th>\n",
       "      <th>DP02_0066PE</th>\n",
       "      <th>DP02_0150PE</th>\n",
       "      <th>DP02_0151PE</th>\n",
       "      <th>state</th>\n",
       "      <th>county</th>\n",
       "    </tr>\n",
       "  </thead>\n",
       "  <tbody>\n",
       "    <tr>\n",
       "      <th>0</th>\n",
       "      <td>Pickens County, Alabama</td>\n",
       "      <td>14241</td>\n",
       "      <td>6.2</td>\n",
       "      <td>13.9</td>\n",
       "      <td>37.8</td>\n",
       "      <td>22.8</td>\n",
       "      <td>7.5</td>\n",
       "      <td>8.8</td>\n",
       "      <td>3.0</td>\n",
       "      <td>79.8</td>\n",
       "      <td>7620</td>\n",
       "      <td>71.0</td>\n",
       "      <td>01</td>\n",
       "      <td>107</td>\n",
       "    </tr>\n",
       "    <tr>\n",
       "      <th>1</th>\n",
       "      <td>Sumter County, Alabama</td>\n",
       "      <td>8244</td>\n",
       "      <td>4.7</td>\n",
       "      <td>12.6</td>\n",
       "      <td>39.7</td>\n",
       "      <td>17.7</td>\n",
       "      <td>7.0</td>\n",
       "      <td>10.6</td>\n",
       "      <td>7.6</td>\n",
       "      <td>82.7</td>\n",
       "      <td>5073</td>\n",
       "      <td>64.8</td>\n",
       "      <td>01</td>\n",
       "      <td>119</td>\n",
       "    </tr>\n",
       "    <tr>\n",
       "      <th>2</th>\n",
       "      <td>Jefferson County, Alabama</td>\n",
       "      <td>447048</td>\n",
       "      <td>3.0</td>\n",
       "      <td>7.6</td>\n",
       "      <td>26.8</td>\n",
       "      <td>22.6</td>\n",
       "      <td>8.1</td>\n",
       "      <td>19.4</td>\n",
       "      <td>12.5</td>\n",
       "      <td>89.4</td>\n",
       "      <td>261390</td>\n",
       "      <td>84.4</td>\n",
       "      <td>01</td>\n",
       "      <td>073</td>\n",
       "    </tr>\n",
       "    <tr>\n",
       "      <th>3</th>\n",
       "      <td>Choctaw County, Alabama</td>\n",
       "      <td>9449</td>\n",
       "      <td>6.6</td>\n",
       "      <td>13.3</td>\n",
       "      <td>39.9</td>\n",
       "      <td>19.5</td>\n",
       "      <td>9.1</td>\n",
       "      <td>7.9</td>\n",
       "      <td>3.8</td>\n",
       "      <td>80.1</td>\n",
       "      <td>5463</td>\n",
       "      <td>70.4</td>\n",
       "      <td>01</td>\n",
       "      <td>023</td>\n",
       "    </tr>\n",
       "    <tr>\n",
       "      <th>4</th>\n",
       "      <td>Franklin County, Alabama</td>\n",
       "      <td>20734</td>\n",
       "      <td>11.8</td>\n",
       "      <td>11.9</td>\n",
       "      <td>37.5</td>\n",
       "      <td>18.0</td>\n",
       "      <td>7.5</td>\n",
       "      <td>8.3</td>\n",
       "      <td>5.1</td>\n",
       "      <td>76.4</td>\n",
       "      <td>11533</td>\n",
       "      <td>74.2</td>\n",
       "      <td>01</td>\n",
       "      <td>059</td>\n",
       "    </tr>\n",
       "  </tbody>\n",
       "</table>\n",
       "</div>"
      ],
      "text/plain": [
       "                        NAME DP02_0058PE DP02_0059PE DP02_0060PE DP02_0061PE  \\\n",
       "0    Pickens County, Alabama       14241         6.2        13.9        37.8   \n",
       "1     Sumter County, Alabama        8244         4.7        12.6        39.7   \n",
       "2  Jefferson County, Alabama      447048         3.0         7.6        26.8   \n",
       "3    Choctaw County, Alabama        9449         6.6        13.3        39.9   \n",
       "4   Franklin County, Alabama       20734        11.8        11.9        37.5   \n",
       "\n",
       "  DP02_0062PE DP02_0063PE DP02_0064PE DP02_0065PE DP02_0066PE DP02_0150PE  \\\n",
       "0        22.8         7.5         8.8         3.0        79.8        7620   \n",
       "1        17.7         7.0        10.6         7.6        82.7        5073   \n",
       "2        22.6         8.1        19.4        12.5        89.4      261390   \n",
       "3        19.5         9.1         7.9         3.8        80.1        5463   \n",
       "4        18.0         7.5         8.3         5.1        76.4       11533   \n",
       "\n",
       "  DP02_0151PE state county  \n",
       "0        71.0    01    107  \n",
       "1        64.8    01    119  \n",
       "2        84.4    01    073  \n",
       "3        70.4    01    023  \n",
       "4        74.2    01    059  "
      ]
     },
     "execution_count": 11,
     "metadata": {},
     "output_type": "execute_result"
    }
   ],
   "source": [
    "counties_df = con.query(cols=cols, geo_unit=g_unit)\n",
    "counties_df.head()"
   ]
  },
  {
   "cell_type": "markdown",
   "metadata": {},
   "source": [
    "P.S. I got the API to return the same information except it wasn't as easy to work with especially because the strings are long and the column names don't autopopulate with the state and county names. Also of note: When I was getting errors in the wrapper they didn't have details, but the errors through the browser version of the API had details."
   ]
  },
  {
   "cell_type": "markdown",
   "metadata": {},
   "source": [
    "# Compare the target to the features\n"
   ]
  },
  {
   "cell_type": "code",
   "execution_count": 12,
   "metadata": {},
   "outputs": [
    {
     "data": {
      "text/plain": [
       "3147"
      ]
     },
     "execution_count": 12,
     "metadata": {},
     "output_type": "execute_result"
    }
   ],
   "source": [
    "#how many counties are in the target set? \n",
    "hom_by_cty.County.nunique()\n",
    "#note that some are suppressed "
   ]
  },
  {
   "cell_type": "code",
   "execution_count": 13,
   "metadata": {},
   "outputs": [
    {
     "name": "stdout",
     "output_type": "stream",
     "text": [
      "3220\n"
     ]
    }
   ],
   "source": [
    "#how many counties are in the target set? \n",
    "print(len(counties_df))\n",
    "#note that these include Puerto Rico"
   ]
  },
  {
   "cell_type": "markdown",
   "metadata": {},
   "source": [
    "Pretty close! Maybe we can limit by population first (on homicides df) then join the data on the county name. "
   ]
  },
  {
   "cell_type": "code",
   "execution_count": 14,
   "metadata": {},
   "outputs": [
    {
     "name": "stdout",
     "output_type": "stream",
     "text": [
      "<class 'pandas.core.frame.DataFrame'>\n",
      "RangeIndex: 3213 entries, 0 to 3212\n",
      "Data columns (total 5 columns):\n",
      "County         3147 non-null object\n",
      "County Code    3147 non-null float64\n",
      "Deaths         3148 non-null object\n",
      "Population     3148 non-null object\n",
      "Crude Rate     3148 non-null object\n",
      "dtypes: float64(1), object(4)\n",
      "memory usage: 125.6+ KB\n"
     ]
    }
   ],
   "source": [
    "import numpy as np\n",
    "hom_by_cty.info()"
   ]
  },
  {
   "cell_type": "code",
   "execution_count": 15,
   "metadata": {},
   "outputs": [
    {
     "data": {
      "text/html": [
       "<div>\n",
       "<style scoped>\n",
       "    .dataframe tbody tr th:only-of-type {\n",
       "        vertical-align: middle;\n",
       "    }\n",
       "\n",
       "    .dataframe tbody tr th {\n",
       "        vertical-align: top;\n",
       "    }\n",
       "\n",
       "    .dataframe thead th {\n",
       "        text-align: right;\n",
       "    }\n",
       "</style>\n",
       "<table border=\"1\" class=\"dataframe\">\n",
       "  <thead>\n",
       "    <tr style=\"text-align: right;\">\n",
       "      <th></th>\n",
       "      <th>County</th>\n",
       "      <th>County Code</th>\n",
       "      <th>Deaths</th>\n",
       "      <th>Population</th>\n",
       "      <th>Crude Rate</th>\n",
       "    </tr>\n",
       "  </thead>\n",
       "  <tbody>\n",
       "    <tr>\n",
       "      <th>0</th>\n",
       "      <td>Autauga County, AL</td>\n",
       "      <td>1001.0</td>\n",
       "      <td>Suppressed</td>\n",
       "      <td>55504</td>\n",
       "      <td>Suppressed</td>\n",
       "    </tr>\n",
       "    <tr>\n",
       "      <th>1</th>\n",
       "      <td>Baldwin County, AL</td>\n",
       "      <td>1003.0</td>\n",
       "      <td>Suppressed</td>\n",
       "      <td>212628</td>\n",
       "      <td>Suppressed</td>\n",
       "    </tr>\n",
       "    <tr>\n",
       "      <th>2</th>\n",
       "      <td>Barbour County, AL</td>\n",
       "      <td>1005.0</td>\n",
       "      <td>Suppressed</td>\n",
       "      <td>25270</td>\n",
       "      <td>Suppressed</td>\n",
       "    </tr>\n",
       "    <tr>\n",
       "      <th>3</th>\n",
       "      <td>Bibb County, AL</td>\n",
       "      <td>1007.0</td>\n",
       "      <td>Suppressed</td>\n",
       "      <td>22668</td>\n",
       "      <td>Suppressed</td>\n",
       "    </tr>\n",
       "    <tr>\n",
       "      <th>4</th>\n",
       "      <td>Blount County, AL</td>\n",
       "      <td>1009.0</td>\n",
       "      <td>Suppressed</td>\n",
       "      <td>58013</td>\n",
       "      <td>Suppressed</td>\n",
       "    </tr>\n",
       "  </tbody>\n",
       "</table>\n",
       "</div>"
      ],
      "text/plain": [
       "               County  County Code      Deaths Population  Crude Rate\n",
       "0  Autauga County, AL       1001.0  Suppressed      55504  Suppressed\n",
       "1  Baldwin County, AL       1003.0  Suppressed     212628  Suppressed\n",
       "2  Barbour County, AL       1005.0  Suppressed      25270  Suppressed\n",
       "3     Bibb County, AL       1007.0  Suppressed      22668  Suppressed\n",
       "4   Blount County, AL       1009.0  Suppressed      58013  Suppressed"
      ]
     },
     "execution_count": 15,
     "metadata": {},
     "output_type": "execute_result"
    }
   ],
   "source": [
    "#convert columns to usable datatypes\n",
    "hom = hom_by_cty\n",
    "hom.head()"
   ]
  },
  {
   "cell_type": "code",
   "execution_count": 16,
   "metadata": {},
   "outputs": [
    {
     "data": {
      "text/plain": [
       "414"
      ]
     },
     "execution_count": 16,
     "metadata": {},
     "output_type": "execute_result"
    }
   ],
   "source": [
    "len(hom[hom['Crude Rate']!='Suppressed'])"
   ]
  },
  {
   "cell_type": "markdown",
   "metadata": {},
   "source": [
    "Only 414 rows have usable data. We're technically supposed to have 1000 rows, which we start out with, before we remove the ones that are suppressed. What if we looked at suicides instead? \n",
    "\n",
    "# Suicide Rates by County\n",
    "Just out of curiosity, is there more data to work with around suicides?  "
   ]
  },
  {
   "cell_type": "code",
   "execution_count": 17,
   "metadata": {},
   "outputs": [
    {
     "name": "stdout",
     "output_type": "stream",
     "text": [
      "1084\n"
     ]
    },
    {
     "data": {
      "text/html": [
       "<div>\n",
       "<style scoped>\n",
       "    .dataframe tbody tr th:only-of-type {\n",
       "        vertical-align: middle;\n",
       "    }\n",
       "\n",
       "    .dataframe tbody tr th {\n",
       "        vertical-align: top;\n",
       "    }\n",
       "\n",
       "    .dataframe thead th {\n",
       "        text-align: right;\n",
       "    }\n",
       "</style>\n",
       "<table border=\"1\" class=\"dataframe\">\n",
       "  <thead>\n",
       "    <tr style=\"text-align: right;\">\n",
       "      <th></th>\n",
       "      <th>County</th>\n",
       "      <th>County Code</th>\n",
       "      <th>Deaths</th>\n",
       "      <th>Population</th>\n",
       "      <th>Crude Rate</th>\n",
       "    </tr>\n",
       "  </thead>\n",
       "  <tbody>\n",
       "    <tr>\n",
       "      <th>0</th>\n",
       "      <td>Autauga County, AL</td>\n",
       "      <td>1001.0</td>\n",
       "      <td>12.0</td>\n",
       "      <td>55504.0</td>\n",
       "      <td>Unreliable</td>\n",
       "    </tr>\n",
       "    <tr>\n",
       "      <th>1</th>\n",
       "      <td>Baldwin County, AL</td>\n",
       "      <td>1003.0</td>\n",
       "      <td>39.0</td>\n",
       "      <td>212628.0</td>\n",
       "      <td>1.83</td>\n",
       "    </tr>\n",
       "    <tr>\n",
       "      <th>2</th>\n",
       "      <td>Blount County, AL</td>\n",
       "      <td>1009.0</td>\n",
       "      <td>11.0</td>\n",
       "      <td>58013.0</td>\n",
       "      <td>Unreliable</td>\n",
       "    </tr>\n",
       "    <tr>\n",
       "      <th>3</th>\n",
       "      <td>Calhoun County, AL</td>\n",
       "      <td>1015.0</td>\n",
       "      <td>29.0</td>\n",
       "      <td>114728.0</td>\n",
       "      <td>2.53</td>\n",
       "    </tr>\n",
       "    <tr>\n",
       "      <th>4</th>\n",
       "      <td>Covington County, AL</td>\n",
       "      <td>1039.0</td>\n",
       "      <td>12.0</td>\n",
       "      <td>37092.0</td>\n",
       "      <td>Unreliable</td>\n",
       "    </tr>\n",
       "  </tbody>\n",
       "</table>\n",
       "</div>"
      ],
      "text/plain": [
       "                 County  County Code  Deaths  Population  Crude Rate\n",
       "0    Autauga County, AL       1001.0    12.0     55504.0  Unreliable\n",
       "1    Baldwin County, AL       1003.0    39.0    212628.0        1.83\n",
       "2     Blount County, AL       1009.0    11.0     58013.0  Unreliable\n",
       "3    Calhoun County, AL       1015.0    29.0    114728.0        2.53\n",
       "4  Covington County, AL       1039.0    12.0     37092.0  Unreliable"
      ]
     },
     "execution_count": 17,
     "metadata": {},
     "output_type": "execute_result"
    }
   ],
   "source": [
    "suicides = pd.read_csv('suicides.txt', delimiter='\\t').drop(['Notes'], axis=1)\n",
    "\n",
    "print(len(suicides))\n",
    "suicides.head()\n",
    "#we don't have all counties here"
   ]
  },
  {
   "cell_type": "code",
   "execution_count": 18,
   "metadata": {
    "scrolled": true
   },
   "outputs": [],
   "source": [
    "suicides.drop(suicides[suicides['Crude Rate'] == 'Unreliable'].index, inplace=True)"
   ]
  },
  {
   "cell_type": "code",
   "execution_count": 19,
   "metadata": {},
   "outputs": [
    {
     "name": "stdout",
     "output_type": "stream",
     "text": [
      "607\n"
     ]
    },
    {
     "data": {
      "text/html": [
       "<div>\n",
       "<style scoped>\n",
       "    .dataframe tbody tr th:only-of-type {\n",
       "        vertical-align: middle;\n",
       "    }\n",
       "\n",
       "    .dataframe tbody tr th {\n",
       "        vertical-align: top;\n",
       "    }\n",
       "\n",
       "    .dataframe thead th {\n",
       "        text-align: right;\n",
       "    }\n",
       "</style>\n",
       "<table border=\"1\" class=\"dataframe\">\n",
       "  <thead>\n",
       "    <tr style=\"text-align: right;\">\n",
       "      <th></th>\n",
       "      <th>County</th>\n",
       "      <th>County Code</th>\n",
       "      <th>Deaths</th>\n",
       "      <th>Population</th>\n",
       "      <th>Crude Rate</th>\n",
       "    </tr>\n",
       "  </thead>\n",
       "  <tbody>\n",
       "    <tr>\n",
       "      <th>1</th>\n",
       "      <td>Baldwin County, AL</td>\n",
       "      <td>1003.0</td>\n",
       "      <td>39.0</td>\n",
       "      <td>212628.0</td>\n",
       "      <td>1.83</td>\n",
       "    </tr>\n",
       "    <tr>\n",
       "      <th>3</th>\n",
       "      <td>Calhoun County, AL</td>\n",
       "      <td>1015.0</td>\n",
       "      <td>29.0</td>\n",
       "      <td>114728.0</td>\n",
       "      <td>2.53</td>\n",
       "    </tr>\n",
       "    <tr>\n",
       "      <th>5</th>\n",
       "      <td>Cullman County, AL</td>\n",
       "      <td>1043.0</td>\n",
       "      <td>21.0</td>\n",
       "      <td>82755.0</td>\n",
       "      <td>2.54</td>\n",
       "    </tr>\n",
       "    <tr>\n",
       "      <th>6</th>\n",
       "      <td>DeKalb County, AL</td>\n",
       "      <td>1049.0</td>\n",
       "      <td>20.0</td>\n",
       "      <td>71617.0</td>\n",
       "      <td>2.79</td>\n",
       "    </tr>\n",
       "    <tr>\n",
       "      <th>12</th>\n",
       "      <td>Jefferson County, AL</td>\n",
       "      <td>1073.0</td>\n",
       "      <td>109.0</td>\n",
       "      <td>659197.0</td>\n",
       "      <td>1.65</td>\n",
       "    </tr>\n",
       "  </tbody>\n",
       "</table>\n",
       "</div>"
      ],
      "text/plain": [
       "                  County  County Code  Deaths  Population Crude Rate\n",
       "1     Baldwin County, AL       1003.0    39.0    212628.0       1.83\n",
       "3     Calhoun County, AL       1015.0    29.0    114728.0       2.53\n",
       "5     Cullman County, AL       1043.0    21.0     82755.0       2.54\n",
       "6      DeKalb County, AL       1049.0    20.0     71617.0       2.79\n",
       "12  Jefferson County, AL       1073.0   109.0    659197.0       1.65"
      ]
     },
     "execution_count": 19,
     "metadata": {},
     "output_type": "execute_result"
    }
   ],
   "source": [
    "print(len(suicides))\n",
    "suicides.head()"
   ]
  },
  {
   "cell_type": "code",
   "execution_count": 20,
   "metadata": {},
   "outputs": [
    {
     "name": "stdout",
     "output_type": "stream",
     "text": [
      "<class 'pandas.core.frame.DataFrame'>\n",
      "Int64Index: 607 entries, 1 to 1083\n",
      "Data columns (total 5 columns):\n",
      "County         536 non-null object\n",
      "County Code    536 non-null float64\n",
      "Deaths         537 non-null float64\n",
      "Population     537 non-null float64\n",
      "Crude Rate     537 non-null object\n",
      "dtypes: float64(3), object(2)\n",
      "memory usage: 28.5+ KB\n"
     ]
    }
   ],
   "source": [
    "suicides.drop(suicides[suicides['Crude Rate'] == 'Suppressed'].index, inplace=True)\n",
    "suicides.info()"
   ]
  },
  {
   "cell_type": "markdown",
   "metadata": {},
   "source": [
    "# To Alex from Mia - where do we go from here? \n",
    "So we know how to get the data from the CDC on deaths/other health things, and we know how to get data from the Census. That's pretty powerful, even if we aren't sure if we have \"enough\" data for the mod 3 project. I don't want to scrap our idea entirely and use a different data set, because I think this is really cool and just worked on it a bunch, lol. What I would consider doing from here is: \n",
    "1. Get permission from an instructor to target homicide rates OR suicide rates even though there aren't technically over 1000 of them. \n",
    "2. Target both of those and compare if we have time. \n",
    "3. Choose a new death or injury variable that is more \"common\" than suicide and homicide like cardiac disease and use that if it returns more than 1000 rows. \n",
    "3. Choose a new target variable from the actual Census data itself, now that we know how to query it.\n",
    "\n",
    "Let me know your thoughts! Text me when/if you work on this at all. :) "
   ]
  },
  {
   "cell_type": "markdown",
   "metadata": {},
   "source": [
    "# Homicide Rates 2013-2017 "
   ]
  },
  {
   "cell_type": "code",
   "execution_count": 36,
   "metadata": {},
   "outputs": [],
   "source": [
    "homicides = pd.read_csv('2013-2017 Homicide Information.txt', delimiter='\\t')\n",
    "homicides = homicides.drop(['Notes'], axis=1)"
   ]
  },
  {
   "cell_type": "code",
   "execution_count": 65,
   "metadata": {},
   "outputs": [],
   "source": [
    "homicides = homicides.drop(homicides[homicides['Crude Rate']=='Suppressed'].index)"
   ]
  },
  {
   "cell_type": "code",
   "execution_count": 66,
   "metadata": {},
   "outputs": [],
   "source": [
    "homicides_reliable = homicides.drop(homicides[homicides['Crude Rate']=='Unreliable'].index)\n",
    "homicides_reliable = homicides_reliable.drop(homicides_reliable[homicides_reliable['Crude Rate'].isna()].index)"
   ]
  },
  {
   "cell_type": "code",
   "execution_count": 67,
   "metadata": {},
   "outputs": [],
   "source": [
    "homicides_reliable = homicides_reliable.drop(homicides_reliable[homicides_reliable['Deaths']=='Missing'].index)\n",
    "homicides_reliable = homicides_reliable.drop(homicides_reliable[homicides_reliable['Deaths'].isna()].index)"
   ]
  },
  {
   "cell_type": "code",
   "execution_count": 69,
   "metadata": {},
   "outputs": [
    {
     "data": {
      "text/plain": [
       "207"
      ]
     },
     "execution_count": 69,
     "metadata": {},
     "output_type": "execute_result"
    }
   ],
   "source": [
    "homicides_reliable['Deaths'].nunique()"
   ]
  },
  {
   "cell_type": "code",
   "execution_count": 70,
   "metadata": {},
   "outputs": [
    {
     "name": "stdout",
     "output_type": "stream",
     "text": [
      "<class 'pandas.core.frame.DataFrame'>\n",
      "Int64Index: 633 entries, 1 to 3147\n",
      "Data columns (total 6 columns):\n",
      "County               632 non-null object\n",
      "County Code          632 non-null float64\n",
      "Deaths               633 non-null object\n",
      "Population           633 non-null object\n",
      "Crude Rate           633 non-null object\n",
      "% of Total Deaths    633 non-null object\n",
      "dtypes: float64(1), object(5)\n",
      "memory usage: 34.6+ KB\n"
     ]
    }
   ],
   "source": [
    "homicides_reliable.info()"
   ]
  },
  {
   "cell_type": "code",
   "execution_count": 103,
   "metadata": {},
   "outputs": [
    {
     "data": {
      "text/html": [
       "<div>\n",
       "<style scoped>\n",
       "    .dataframe tbody tr th:only-of-type {\n",
       "        vertical-align: middle;\n",
       "    }\n",
       "\n",
       "    .dataframe tbody tr th {\n",
       "        vertical-align: top;\n",
       "    }\n",
       "\n",
       "    .dataframe thead th {\n",
       "        text-align: right;\n",
       "    }\n",
       "</style>\n",
       "<table border=\"1\" class=\"dataframe\">\n",
       "  <thead>\n",
       "    <tr style=\"text-align: right;\">\n",
       "      <th></th>\n",
       "      <th>County</th>\n",
       "      <th>County Code</th>\n",
       "      <th>Deaths</th>\n",
       "      <th>Population</th>\n",
       "      <th>Crude Rate</th>\n",
       "      <th>% of Total Deaths</th>\n",
       "    </tr>\n",
       "  </thead>\n",
       "  <tbody>\n",
       "    <tr>\n",
       "      <th>0</th>\n",
       "      <td>Autauga County, AL</td>\n",
       "      <td>1001.0</td>\n",
       "      <td>47</td>\n",
       "      <td>276908</td>\n",
       "      <td>16.9731</td>\n",
       "      <td>0.0103%</td>\n",
       "    </tr>\n",
       "    <tr>\n",
       "      <th>1</th>\n",
       "      <td>Baldwin County, AL</td>\n",
       "      <td>1003.0</td>\n",
       "      <td>253</td>\n",
       "      <td>1020551</td>\n",
       "      <td>24.7905</td>\n",
       "      <td>0.0554%</td>\n",
       "    </tr>\n",
       "    <tr>\n",
       "      <th>3</th>\n",
       "      <td>Bibb County, AL</td>\n",
       "      <td>1007.0</td>\n",
       "      <td>27</td>\n",
       "      <td>112912</td>\n",
       "      <td>23.9124</td>\n",
       "      <td>0.0059%</td>\n",
       "    </tr>\n",
       "    <tr>\n",
       "      <th>4</th>\n",
       "      <td>Blount County, AL</td>\n",
       "      <td>1009.0</td>\n",
       "      <td>88</td>\n",
       "      <td>288981</td>\n",
       "      <td>30.4518</td>\n",
       "      <td>0.0193%</td>\n",
       "    </tr>\n",
       "    <tr>\n",
       "      <th>7</th>\n",
       "      <td>Calhoun County, AL</td>\n",
       "      <td>1015.0</td>\n",
       "      <td>132</td>\n",
       "      <td>577611</td>\n",
       "      <td>22.8528</td>\n",
       "      <td>0.0289%</td>\n",
       "    </tr>\n",
       "  </tbody>\n",
       "</table>\n",
       "</div>"
      ],
      "text/plain": [
       "               County  County Code Deaths Population Crude Rate  \\\n",
       "0  Autauga County, AL       1001.0     47     276908    16.9731   \n",
       "1  Baldwin County, AL       1003.0    253    1020551    24.7905   \n",
       "3     Bibb County, AL       1007.0     27     112912    23.9124   \n",
       "4   Blount County, AL       1009.0     88     288981    30.4518   \n",
       "7  Calhoun County, AL       1015.0    132     577611    22.8528   \n",
       "\n",
       "  % of Total Deaths  \n",
       "0           0.0103%  \n",
       "1           0.0554%  \n",
       "3           0.0059%  \n",
       "4           0.0193%  \n",
       "7           0.0289%  "
      ]
     },
     "execution_count": 103,
     "metadata": {},
     "output_type": "execute_result"
    }
   ],
   "source": [
    "od = pd.read_csv('2013-2017 Overdose Information.txt', delimiter='\\t')\n",
    "od = od.drop(['Notes'], axis=1)\n",
    "\n",
    "od = od.drop(od[od['Crude Rate']=='Suppressed'].index)\n",
    "\n",
    "od_reliable = od_reliable.drop(od_reliable[od_reliable['Crude Rate']=='Unreliable'].index)\n",
    "od_reliable = od_reliable.drop(od_reliable[od_reliable['Deaths']=='Missing'].index)\n",
    "od_reliable = od_reliable.drop(od_reliable[od_reliable['Deaths'].isna()].index)\n",
    "od_reliable = od_reliable.drop(od_reliable[od_reliable['County Code'].isna()].index)\n",
    "od_reliable.head()"
   ]
  },
  {
   "cell_type": "code",
   "execution_count": 104,
   "metadata": {},
   "outputs": [
    {
     "name": "stdout",
     "output_type": "stream",
     "text": [
      "<class 'pandas.core.frame.DataFrame'>\n",
      "Int64Index: 2016 entries, 0 to 3144\n",
      "Data columns (total 6 columns):\n",
      "County               2016 non-null object\n",
      "County Code          2016 non-null float64\n",
      "Deaths               2016 non-null object\n",
      "Population           2016 non-null object\n",
      "Crude Rate           2016 non-null object\n",
      "% of Total Deaths    2016 non-null object\n",
      "dtypes: float64(1), object(5)\n",
      "memory usage: 110.2+ KB\n"
     ]
    }
   ],
   "source": [
    "od_reliable.info()"
   ]
  },
  {
   "cell_type": "code",
   "execution_count": 113,
   "metadata": {},
   "outputs": [],
   "source": [
    "od_reliable['County Code'] = od_reliable['County Code'].astype(int)\n",
    "od_reliable['Deaths'] = od_reliable['Deaths'].astype(int)\n",
    "od_reliable['Population'] = od_reliable['Population'].astype(int)\n",
    "od_reliable['Crude Rate'] = od_reliable['Crude Rate'].astype(float)"
   ]
  },
  {
   "cell_type": "code",
   "execution_count": 114,
   "metadata": {},
   "outputs": [
    {
     "name": "stdout",
     "output_type": "stream",
     "text": [
      "<class 'pandas.core.frame.DataFrame'>\n",
      "Int64Index: 2016 entries, 0 to 3144\n",
      "Data columns (total 6 columns):\n",
      "County               2016 non-null object\n",
      "County Code          2016 non-null int64\n",
      "Deaths               2016 non-null int64\n",
      "Population           2016 non-null int64\n",
      "Crude Rate           2016 non-null float64\n",
      "% of Total Deaths    2016 non-null object\n",
      "dtypes: float64(1), int64(3), object(2)\n",
      "memory usage: 110.2+ KB\n"
     ]
    }
   ],
   "source": [
    "od_reliable.info()"
   ]
  },
  {
   "cell_type": "code",
   "execution_count": 135,
   "metadata": {
    "scrolled": true
   },
   "outputs": [],
   "source": [
    "od_reliable['% of Total Deaths'] = od_reliable['% of Total Deaths'].str.replace(\"%\", \"\")\n",
    "od_reliable['% of Total Deaths'] = od_reliable['% of Total Deaths'].astype(float)"
   ]
  },
  {
   "cell_type": "code",
   "execution_count": 136,
   "metadata": {},
   "outputs": [],
   "source": [
    "od_df = od_reliable"
   ]
  },
  {
   "cell_type": "code",
   "execution_count": 137,
   "metadata": {},
   "outputs": [
    {
     "data": {
      "text/html": [
       "<div>\n",
       "<style scoped>\n",
       "    .dataframe tbody tr th:only-of-type {\n",
       "        vertical-align: middle;\n",
       "    }\n",
       "\n",
       "    .dataframe tbody tr th {\n",
       "        vertical-align: top;\n",
       "    }\n",
       "\n",
       "    .dataframe thead th {\n",
       "        text-align: right;\n",
       "    }\n",
       "</style>\n",
       "<table border=\"1\" class=\"dataframe\">\n",
       "  <thead>\n",
       "    <tr style=\"text-align: right;\">\n",
       "      <th></th>\n",
       "      <th>County</th>\n",
       "      <th>County Code</th>\n",
       "      <th>Deaths</th>\n",
       "      <th>Population</th>\n",
       "      <th>Crude Rate</th>\n",
       "      <th>% of Total Deaths</th>\n",
       "    </tr>\n",
       "  </thead>\n",
       "  <tbody>\n",
       "    <tr>\n",
       "      <th>0</th>\n",
       "      <td>Autauga County, AL</td>\n",
       "      <td>1001</td>\n",
       "      <td>47</td>\n",
       "      <td>276908</td>\n",
       "      <td>16.9731</td>\n",
       "      <td>0.0103</td>\n",
       "    </tr>\n",
       "    <tr>\n",
       "      <th>1</th>\n",
       "      <td>Baldwin County, AL</td>\n",
       "      <td>1003</td>\n",
       "      <td>253</td>\n",
       "      <td>1020551</td>\n",
       "      <td>24.7905</td>\n",
       "      <td>0.0554</td>\n",
       "    </tr>\n",
       "    <tr>\n",
       "      <th>3</th>\n",
       "      <td>Bibb County, AL</td>\n",
       "      <td>1007</td>\n",
       "      <td>27</td>\n",
       "      <td>112912</td>\n",
       "      <td>23.9124</td>\n",
       "      <td>0.0059</td>\n",
       "    </tr>\n",
       "    <tr>\n",
       "      <th>4</th>\n",
       "      <td>Blount County, AL</td>\n",
       "      <td>1009</td>\n",
       "      <td>88</td>\n",
       "      <td>288981</td>\n",
       "      <td>30.4518</td>\n",
       "      <td>0.0193</td>\n",
       "    </tr>\n",
       "    <tr>\n",
       "      <th>7</th>\n",
       "      <td>Calhoun County, AL</td>\n",
       "      <td>1015</td>\n",
       "      <td>132</td>\n",
       "      <td>577611</td>\n",
       "      <td>22.8528</td>\n",
       "      <td>0.0289</td>\n",
       "    </tr>\n",
       "  </tbody>\n",
       "</table>\n",
       "</div>"
      ],
      "text/plain": [
       "               County  County Code  Deaths  Population  Crude Rate  \\\n",
       "0  Autauga County, AL         1001      47      276908     16.9731   \n",
       "1  Baldwin County, AL         1003     253     1020551     24.7905   \n",
       "3     Bibb County, AL         1007      27      112912     23.9124   \n",
       "4   Blount County, AL         1009      88      288981     30.4518   \n",
       "7  Calhoun County, AL         1015     132      577611     22.8528   \n",
       "\n",
       "   % of Total Deaths  \n",
       "0             0.0103  \n",
       "1             0.0554  \n",
       "3             0.0059  \n",
       "4             0.0193  \n",
       "7             0.0289  "
      ]
     },
     "execution_count": 137,
     "metadata": {},
     "output_type": "execute_result"
    }
   ],
   "source": [
    "od_df.head()"
   ]
  },
  {
   "cell_type": "code",
   "execution_count": 138,
   "metadata": {},
   "outputs": [
    {
     "name": "stdout",
     "output_type": "stream",
     "text": [
      "<class 'pandas.core.frame.DataFrame'>\n",
      "Int64Index: 2016 entries, 0 to 3144\n",
      "Data columns (total 6 columns):\n",
      "County               2016 non-null object\n",
      "County Code          2016 non-null int64\n",
      "Deaths               2016 non-null int64\n",
      "Population           2016 non-null int64\n",
      "Crude Rate           2016 non-null float64\n",
      "% of Total Deaths    2016 non-null float64\n",
      "dtypes: float64(2), int64(3), object(1)\n",
      "memory usage: 110.2+ KB\n"
     ]
    }
   ],
   "source": [
    "od_df.info()"
   ]
  },
  {
   "cell_type": "code",
   "execution_count": null,
   "metadata": {},
   "outputs": [],
   "source": []
  }
 ],
 "metadata": {
  "kernelspec": {
   "display_name": "Python 3",
   "language": "python",
   "name": "python3"
  },
  "language_info": {
   "codemirror_mode": {
    "name": "ipython",
    "version": 3
   },
   "file_extension": ".py",
   "mimetype": "text/x-python",
   "name": "python",
   "nbconvert_exporter": "python",
   "pygments_lexer": "ipython3",
   "version": "3.7.3"
  }
 },
 "nbformat": 4,
 "nbformat_minor": 2
}
